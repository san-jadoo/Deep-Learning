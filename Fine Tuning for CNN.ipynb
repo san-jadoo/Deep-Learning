{
 "cells": [
  {
   "cell_type": "code",
   "execution_count": 11,
   "id": "23657a1a",
   "metadata": {},
   "outputs": [
    {
     "name": "stdout",
     "output_type": "stream",
     "text": [
      "Epoch 1/5\n",
      "750/750 [==============================] - 7s 9ms/step - loss: 0.2013 - accuracy: 0.9388 - val_loss: 0.0680 - val_accuracy: 0.9797\n",
      "Epoch 2/5\n",
      "750/750 [==============================] - 7s 9ms/step - loss: 0.0543 - accuracy: 0.9829 - val_loss: 0.0502 - val_accuracy: 0.9849\n",
      "Epoch 3/5\n",
      "750/750 [==============================] - 8s 11ms/step - loss: 0.0361 - accuracy: 0.9882 - val_loss: 0.0552 - val_accuracy: 0.9843\n",
      "Epoch 4/5\n",
      "750/750 [==============================] - 10s 14ms/step - loss: 0.0282 - accuracy: 0.9907 - val_loss: 0.0445 - val_accuracy: 0.9881\n",
      "Epoch 5/5\n",
      "750/750 [==============================] - 10s 13ms/step - loss: 0.0240 - accuracy: 0.9921 - val_loss: 0.0587 - val_accuracy: 0.9817\n",
      "313/313 [==============================] - 1s 4ms/step - loss: 0.0453 - accuracy: 0.9851\n",
      "Test accuracy: 0.9850999712944031\n"
     ]
    }
   ],
   "source": [
    "#Develop python code to fine tune CNN parameters for MNIST classification.\n",
    "import tensorflow as tf\n",
    "from tensorflow.keras import layers, models\n",
    "from tensorflow.keras.datasets import mnist\n",
    "\n",
    "(train_images, train_labels), (test_images, test_labels) = mnist.load_data()\n",
    "\n",
    "train_images = train_images.reshape((60000, 28, 28, 1)).astype('float32') / 255\n",
    "test_images = test_images.reshape((10000, 28, 28, 1)).astype('float32') / 255\n",
    "\n",
    "train_labels = tf.keras.utils.to_categorical(train_labels)\n",
    "test_labels = tf.keras.utils.to_categorical(test_labels)\n",
    "\n",
    "model = models.Sequential([\n",
    "    layers.Conv2D(32, (3, 3), activation='relu', input_shape=(28, 28, 1)),\n",
    "    layers.MaxPooling2D((2, 2)),\n",
    "    layers.Conv2D(64, (3, 3), activation='relu'),\n",
    "    layers.MaxPooling2D((2, 2)),\n",
    "    layers.Conv2D(64, (3, 3), activation='relu'),\n",
    "    layers.Flatten(),\n",
    "    layers.Dense(64, activation='relu'),\n",
    "    layers.Dense(10, activation='softmax')\n",
    "])\n",
    "\n",
    "model.compile(optimizer='adam',\n",
    "              loss='categorical_crossentropy',\n",
    "              metrics=['accuracy'])\n",
    "\n",
    "history = model.fit(train_images, train_labels, epochs=5, batch_size=64, validation_split=0.2)\n",
    "\n",
    "test_loss, test_acc = model.evaluate(test_images, test_labels)\n",
    "print(f'Test accuracy: {test_acc}')"
   ]
  }
 ],
 "metadata": {
  "kernelspec": {
   "display_name": "Python 3 (ipykernel)",
   "language": "python",
   "name": "python3"
  },
  "language_info": {
   "codemirror_mode": {
    "name": "ipython",
    "version": 3
   },
   "file_extension": ".py",
   "mimetype": "text/x-python",
   "name": "python",
   "nbconvert_exporter": "python",
   "pygments_lexer": "ipython3",
   "version": "3.10.9"
  }
 },
 "nbformat": 4,
 "nbformat_minor": 5
}
